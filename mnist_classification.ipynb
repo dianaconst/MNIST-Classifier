{
  "metadata": {
    "kernelspec": {
      "language": "python",
      "display_name": "Python 3",
      "name": "python3"
    },
    "language_info": {
      "name": "python",
      "version": "3.10.12",
      "mimetype": "text/x-python",
      "codemirror_mode": {
        "name": "ipython",
        "version": 3
      },
      "pygments_lexer": "ipython3",
      "nbconvert_exporter": "python",
      "file_extension": ".py"
    },
    "kaggle": {
      "accelerator": "none",
      "dataSources": [
        {
          "sourceId": 3004,
          "databundleVersionId": 861823,
          "sourceType": "competition"
        }
      ],
      "dockerImageVersionId": 30626,
      "isInternetEnabled": false,
      "language": "python",
      "sourceType": "notebook",
      "isGpuEnabled": false
    },
    "colab": {
      "provenance": []
    }
  },
  "nbformat_minor": 0,
  "nbformat": 4,
  "cells": [
    {
      "cell_type": "code",
      "source": [
        "from google.colab import drive\n",
        "drive.mount('/content/drive')"
      ],
      "metadata": {
        "colab": {
          "base_uri": "https://localhost:8080/"
        },
        "id": "5UcPrrnpFn64",
        "outputId": "144585bc-f982-418a-88e9-d2dbb1ec3d61"
      },
      "execution_count": null,
      "outputs": [
        {
          "output_type": "stream",
          "name": "stdout",
          "text": [
            "Mounted at /content/drive\n"
          ]
        }
      ]
    },
    {
      "cell_type": "markdown",
      "source": [
        "Convolutional Neural Network with a two-layer architecture. The input layer consists of 784 pixels, representative of each 28x28 image. Then I use a hidden layer which has 10 units and a ReLU activation function. Then, another output layer which has 10 digit classes and uses softmax. I use backpropagation to tell how much the error of the prediction deviates from the true value and hot encoding. The overall accuracy is ~85%."
      ],
      "metadata": {
        "id": "jBhkeHRYFR-v"
      }
    },
    {
      "cell_type": "code",
      "source": [
        "import numpy as np\n",
        "import pandas as pd\n",
        "from matplotlib import pyplot as plt\n",
        "from google.colab import userdata"
      ],
      "metadata": {
        "execution": {
          "iopub.status.busy": "2023-12-26T16:19:43.632227Z",
          "iopub.execute_input": "2023-12-26T16:19:43.632722Z",
          "iopub.status.idle": "2023-12-26T16:19:43.641164Z",
          "shell.execute_reply.started": "2023-12-26T16:19:43.632683Z",
          "shell.execute_reply": "2023-12-26T16:19:43.638048Z"
        },
        "trusted": true,
        "id": "jDLdMmjDFR-w"
      },
      "execution_count": null,
      "outputs": []
    },
    {
      "cell_type": "code",
      "source": [
        "data = pd.read_csv(userdata.get('PATH_TRAIN'))"
      ],
      "metadata": {
        "execution": {
          "iopub.status.busy": "2023-12-26T16:19:43.795643Z",
          "iopub.execute_input": "2023-12-26T16:19:43.796218Z",
          "iopub.status.idle": "2023-12-26T16:19:46.008473Z",
          "shell.execute_reply.started": "2023-12-26T16:19:43.796174Z",
          "shell.execute_reply": "2023-12-26T16:19:46.006482Z"
        },
        "trusted": true,
        "id": "vxzIFE2mFR-w"
      },
      "execution_count": null,
      "outputs": []
    },
    {
      "cell_type": "code",
      "source": [
        "data.head()"
      ],
      "metadata": {
        "execution": {
          "iopub.status.busy": "2023-12-26T16:19:46.012193Z",
          "iopub.execute_input": "2023-12-26T16:19:46.012718Z",
          "iopub.status.idle": "2023-12-26T16:19:46.038045Z",
          "shell.execute_reply.started": "2023-12-26T16:19:46.012681Z",
          "shell.execute_reply": "2023-12-26T16:19:46.035950Z"
        },
        "trusted": true,
        "colab": {
          "base_uri": "https://localhost:8080/",
          "height": 236
        },
        "id": "ki4P_OZ1FR-w",
        "outputId": "ffb8df0c-a62c-4622-8ee8-ea7a33d25dad"
      },
      "execution_count": null,
      "outputs": [
        {
          "output_type": "execute_result",
          "data": {
            "text/plain": [
              "   label  pixel0  pixel1  pixel2  pixel3  pixel4  pixel5  pixel6  pixel7  \\\n",
              "0      1       0       0       0       0       0       0       0       0   \n",
              "1      0       0       0       0       0       0       0       0       0   \n",
              "2      1       0       0       0       0       0       0       0       0   \n",
              "3      4       0       0       0       0       0       0       0       0   \n",
              "4      0       0       0       0       0       0       0       0       0   \n",
              "\n",
              "   pixel8  ...  pixel774  pixel775  pixel776  pixel777  pixel778  pixel779  \\\n",
              "0       0  ...         0         0         0         0         0         0   \n",
              "1       0  ...         0         0         0         0         0         0   \n",
              "2       0  ...         0         0         0         0         0         0   \n",
              "3       0  ...         0         0         0         0         0         0   \n",
              "4       0  ...         0         0         0         0         0         0   \n",
              "\n",
              "   pixel780  pixel781  pixel782  pixel783  \n",
              "0         0         0         0         0  \n",
              "1         0         0         0         0  \n",
              "2         0         0         0         0  \n",
              "3         0         0         0         0  \n",
              "4         0         0         0         0  \n",
              "\n",
              "[5 rows x 785 columns]"
            ],
            "text/html": [
              "\n",
              "  <div id=\"df-51c2abd3-7796-4e8d-832f-3b90aed9fe7e\" class=\"colab-df-container\">\n",
              "    <div>\n",
              "<style scoped>\n",
              "    .dataframe tbody tr th:only-of-type {\n",
              "        vertical-align: middle;\n",
              "    }\n",
              "\n",
              "    .dataframe tbody tr th {\n",
              "        vertical-align: top;\n",
              "    }\n",
              "\n",
              "    .dataframe thead th {\n",
              "        text-align: right;\n",
              "    }\n",
              "</style>\n",
              "<table border=\"1\" class=\"dataframe\">\n",
              "  <thead>\n",
              "    <tr style=\"text-align: right;\">\n",
              "      <th></th>\n",
              "      <th>label</th>\n",
              "      <th>pixel0</th>\n",
              "      <th>pixel1</th>\n",
              "      <th>pixel2</th>\n",
              "      <th>pixel3</th>\n",
              "      <th>pixel4</th>\n",
              "      <th>pixel5</th>\n",
              "      <th>pixel6</th>\n",
              "      <th>pixel7</th>\n",
              "      <th>pixel8</th>\n",
              "      <th>...</th>\n",
              "      <th>pixel774</th>\n",
              "      <th>pixel775</th>\n",
              "      <th>pixel776</th>\n",
              "      <th>pixel777</th>\n",
              "      <th>pixel778</th>\n",
              "      <th>pixel779</th>\n",
              "      <th>pixel780</th>\n",
              "      <th>pixel781</th>\n",
              "      <th>pixel782</th>\n",
              "      <th>pixel783</th>\n",
              "    </tr>\n",
              "  </thead>\n",
              "  <tbody>\n",
              "    <tr>\n",
              "      <th>0</th>\n",
              "      <td>1</td>\n",
              "      <td>0</td>\n",
              "      <td>0</td>\n",
              "      <td>0</td>\n",
              "      <td>0</td>\n",
              "      <td>0</td>\n",
              "      <td>0</td>\n",
              "      <td>0</td>\n",
              "      <td>0</td>\n",
              "      <td>0</td>\n",
              "      <td>...</td>\n",
              "      <td>0</td>\n",
              "      <td>0</td>\n",
              "      <td>0</td>\n",
              "      <td>0</td>\n",
              "      <td>0</td>\n",
              "      <td>0</td>\n",
              "      <td>0</td>\n",
              "      <td>0</td>\n",
              "      <td>0</td>\n",
              "      <td>0</td>\n",
              "    </tr>\n",
              "    <tr>\n",
              "      <th>1</th>\n",
              "      <td>0</td>\n",
              "      <td>0</td>\n",
              "      <td>0</td>\n",
              "      <td>0</td>\n",
              "      <td>0</td>\n",
              "      <td>0</td>\n",
              "      <td>0</td>\n",
              "      <td>0</td>\n",
              "      <td>0</td>\n",
              "      <td>0</td>\n",
              "      <td>...</td>\n",
              "      <td>0</td>\n",
              "      <td>0</td>\n",
              "      <td>0</td>\n",
              "      <td>0</td>\n",
              "      <td>0</td>\n",
              "      <td>0</td>\n",
              "      <td>0</td>\n",
              "      <td>0</td>\n",
              "      <td>0</td>\n",
              "      <td>0</td>\n",
              "    </tr>\n",
              "    <tr>\n",
              "      <th>2</th>\n",
              "      <td>1</td>\n",
              "      <td>0</td>\n",
              "      <td>0</td>\n",
              "      <td>0</td>\n",
              "      <td>0</td>\n",
              "      <td>0</td>\n",
              "      <td>0</td>\n",
              "      <td>0</td>\n",
              "      <td>0</td>\n",
              "      <td>0</td>\n",
              "      <td>...</td>\n",
              "      <td>0</td>\n",
              "      <td>0</td>\n",
              "      <td>0</td>\n",
              "      <td>0</td>\n",
              "      <td>0</td>\n",
              "      <td>0</td>\n",
              "      <td>0</td>\n",
              "      <td>0</td>\n",
              "      <td>0</td>\n",
              "      <td>0</td>\n",
              "    </tr>\n",
              "    <tr>\n",
              "      <th>3</th>\n",
              "      <td>4</td>\n",
              "      <td>0</td>\n",
              "      <td>0</td>\n",
              "      <td>0</td>\n",
              "      <td>0</td>\n",
              "      <td>0</td>\n",
              "      <td>0</td>\n",
              "      <td>0</td>\n",
              "      <td>0</td>\n",
              "      <td>0</td>\n",
              "      <td>...</td>\n",
              "      <td>0</td>\n",
              "      <td>0</td>\n",
              "      <td>0</td>\n",
              "      <td>0</td>\n",
              "      <td>0</td>\n",
              "      <td>0</td>\n",
              "      <td>0</td>\n",
              "      <td>0</td>\n",
              "      <td>0</td>\n",
              "      <td>0</td>\n",
              "    </tr>\n",
              "    <tr>\n",
              "      <th>4</th>\n",
              "      <td>0</td>\n",
              "      <td>0</td>\n",
              "      <td>0</td>\n",
              "      <td>0</td>\n",
              "      <td>0</td>\n",
              "      <td>0</td>\n",
              "      <td>0</td>\n",
              "      <td>0</td>\n",
              "      <td>0</td>\n",
              "      <td>0</td>\n",
              "      <td>...</td>\n",
              "      <td>0</td>\n",
              "      <td>0</td>\n",
              "      <td>0</td>\n",
              "      <td>0</td>\n",
              "      <td>0</td>\n",
              "      <td>0</td>\n",
              "      <td>0</td>\n",
              "      <td>0</td>\n",
              "      <td>0</td>\n",
              "      <td>0</td>\n",
              "    </tr>\n",
              "  </tbody>\n",
              "</table>\n",
              "<p>5 rows × 785 columns</p>\n",
              "</div>\n",
              "    <div class=\"colab-df-buttons\">\n",
              "\n",
              "  <div class=\"colab-df-container\">\n",
              "    <button class=\"colab-df-convert\" onclick=\"convertToInteractive('df-51c2abd3-7796-4e8d-832f-3b90aed9fe7e')\"\n",
              "            title=\"Convert this dataframe to an interactive table.\"\n",
              "            style=\"display:none;\">\n",
              "\n",
              "  <svg xmlns=\"http://www.w3.org/2000/svg\" height=\"24px\" viewBox=\"0 -960 960 960\">\n",
              "    <path d=\"M120-120v-720h720v720H120Zm60-500h600v-160H180v160Zm220 220h160v-160H400v160Zm0 220h160v-160H400v160ZM180-400h160v-160H180v160Zm440 0h160v-160H620v160ZM180-180h160v-160H180v160Zm440 0h160v-160H620v160Z\"/>\n",
              "  </svg>\n",
              "    </button>\n",
              "\n",
              "  <style>\n",
              "    .colab-df-container {\n",
              "      display:flex;\n",
              "      gap: 12px;\n",
              "    }\n",
              "\n",
              "    .colab-df-convert {\n",
              "      background-color: #E8F0FE;\n",
              "      border: none;\n",
              "      border-radius: 50%;\n",
              "      cursor: pointer;\n",
              "      display: none;\n",
              "      fill: #1967D2;\n",
              "      height: 32px;\n",
              "      padding: 0 0 0 0;\n",
              "      width: 32px;\n",
              "    }\n",
              "\n",
              "    .colab-df-convert:hover {\n",
              "      background-color: #E2EBFA;\n",
              "      box-shadow: 0px 1px 2px rgba(60, 64, 67, 0.3), 0px 1px 3px 1px rgba(60, 64, 67, 0.15);\n",
              "      fill: #174EA6;\n",
              "    }\n",
              "\n",
              "    .colab-df-buttons div {\n",
              "      margin-bottom: 4px;\n",
              "    }\n",
              "\n",
              "    [theme=dark] .colab-df-convert {\n",
              "      background-color: #3B4455;\n",
              "      fill: #D2E3FC;\n",
              "    }\n",
              "\n",
              "    [theme=dark] .colab-df-convert:hover {\n",
              "      background-color: #434B5C;\n",
              "      box-shadow: 0px 1px 3px 1px rgba(0, 0, 0, 0.15);\n",
              "      filter: drop-shadow(0px 1px 2px rgba(0, 0, 0, 0.3));\n",
              "      fill: #FFFFFF;\n",
              "    }\n",
              "  </style>\n",
              "\n",
              "    <script>\n",
              "      const buttonEl =\n",
              "        document.querySelector('#df-51c2abd3-7796-4e8d-832f-3b90aed9fe7e button.colab-df-convert');\n",
              "      buttonEl.style.display =\n",
              "        google.colab.kernel.accessAllowed ? 'block' : 'none';\n",
              "\n",
              "      async function convertToInteractive(key) {\n",
              "        const element = document.querySelector('#df-51c2abd3-7796-4e8d-832f-3b90aed9fe7e');\n",
              "        const dataTable =\n",
              "          await google.colab.kernel.invokeFunction('convertToInteractive',\n",
              "                                                    [key], {});\n",
              "        if (!dataTable) return;\n",
              "\n",
              "        const docLinkHtml = 'Like what you see? Visit the ' +\n",
              "          '<a target=\"_blank\" href=https://colab.research.google.com/notebooks/data_table.ipynb>data table notebook</a>'\n",
              "          + ' to learn more about interactive tables.';\n",
              "        element.innerHTML = '';\n",
              "        dataTable['output_type'] = 'display_data';\n",
              "        await google.colab.output.renderOutput(dataTable, element);\n",
              "        const docLink = document.createElement('div');\n",
              "        docLink.innerHTML = docLinkHtml;\n",
              "        element.appendChild(docLink);\n",
              "      }\n",
              "    </script>\n",
              "  </div>\n",
              "\n",
              "\n",
              "<div id=\"df-ffddc7b8-bd9c-488c-bf07-7285cbe9c732\">\n",
              "  <button class=\"colab-df-quickchart\" onclick=\"quickchart('df-ffddc7b8-bd9c-488c-bf07-7285cbe9c732')\"\n",
              "            title=\"Suggest charts\"\n",
              "            style=\"display:none;\">\n",
              "\n",
              "<svg xmlns=\"http://www.w3.org/2000/svg\" height=\"24px\"viewBox=\"0 0 24 24\"\n",
              "     width=\"24px\">\n",
              "    <g>\n",
              "        <path d=\"M19 3H5c-1.1 0-2 .9-2 2v14c0 1.1.9 2 2 2h14c1.1 0 2-.9 2-2V5c0-1.1-.9-2-2-2zM9 17H7v-7h2v7zm4 0h-2V7h2v10zm4 0h-2v-4h2v4z\"/>\n",
              "    </g>\n",
              "</svg>\n",
              "  </button>\n",
              "\n",
              "<style>\n",
              "  .colab-df-quickchart {\n",
              "      --bg-color: #E8F0FE;\n",
              "      --fill-color: #1967D2;\n",
              "      --hover-bg-color: #E2EBFA;\n",
              "      --hover-fill-color: #174EA6;\n",
              "      --disabled-fill-color: #AAA;\n",
              "      --disabled-bg-color: #DDD;\n",
              "  }\n",
              "\n",
              "  [theme=dark] .colab-df-quickchart {\n",
              "      --bg-color: #3B4455;\n",
              "      --fill-color: #D2E3FC;\n",
              "      --hover-bg-color: #434B5C;\n",
              "      --hover-fill-color: #FFFFFF;\n",
              "      --disabled-bg-color: #3B4455;\n",
              "      --disabled-fill-color: #666;\n",
              "  }\n",
              "\n",
              "  .colab-df-quickchart {\n",
              "    background-color: var(--bg-color);\n",
              "    border: none;\n",
              "    border-radius: 50%;\n",
              "    cursor: pointer;\n",
              "    display: none;\n",
              "    fill: var(--fill-color);\n",
              "    height: 32px;\n",
              "    padding: 0;\n",
              "    width: 32px;\n",
              "  }\n",
              "\n",
              "  .colab-df-quickchart:hover {\n",
              "    background-color: var(--hover-bg-color);\n",
              "    box-shadow: 0 1px 2px rgba(60, 64, 67, 0.3), 0 1px 3px 1px rgba(60, 64, 67, 0.15);\n",
              "    fill: var(--button-hover-fill-color);\n",
              "  }\n",
              "\n",
              "  .colab-df-quickchart-complete:disabled,\n",
              "  .colab-df-quickchart-complete:disabled:hover {\n",
              "    background-color: var(--disabled-bg-color);\n",
              "    fill: var(--disabled-fill-color);\n",
              "    box-shadow: none;\n",
              "  }\n",
              "\n",
              "  .colab-df-spinner {\n",
              "    border: 2px solid var(--fill-color);\n",
              "    border-color: transparent;\n",
              "    border-bottom-color: var(--fill-color);\n",
              "    animation:\n",
              "      spin 1s steps(1) infinite;\n",
              "  }\n",
              "\n",
              "  @keyframes spin {\n",
              "    0% {\n",
              "      border-color: transparent;\n",
              "      border-bottom-color: var(--fill-color);\n",
              "      border-left-color: var(--fill-color);\n",
              "    }\n",
              "    20% {\n",
              "      border-color: transparent;\n",
              "      border-left-color: var(--fill-color);\n",
              "      border-top-color: var(--fill-color);\n",
              "    }\n",
              "    30% {\n",
              "      border-color: transparent;\n",
              "      border-left-color: var(--fill-color);\n",
              "      border-top-color: var(--fill-color);\n",
              "      border-right-color: var(--fill-color);\n",
              "    }\n",
              "    40% {\n",
              "      border-color: transparent;\n",
              "      border-right-color: var(--fill-color);\n",
              "      border-top-color: var(--fill-color);\n",
              "    }\n",
              "    60% {\n",
              "      border-color: transparent;\n",
              "      border-right-color: var(--fill-color);\n",
              "    }\n",
              "    80% {\n",
              "      border-color: transparent;\n",
              "      border-right-color: var(--fill-color);\n",
              "      border-bottom-color: var(--fill-color);\n",
              "    }\n",
              "    90% {\n",
              "      border-color: transparent;\n",
              "      border-bottom-color: var(--fill-color);\n",
              "    }\n",
              "  }\n",
              "</style>\n",
              "\n",
              "  <script>\n",
              "    async function quickchart(key) {\n",
              "      const quickchartButtonEl =\n",
              "        document.querySelector('#' + key + ' button');\n",
              "      quickchartButtonEl.disabled = true;  // To prevent multiple clicks.\n",
              "      quickchartButtonEl.classList.add('colab-df-spinner');\n",
              "      try {\n",
              "        const charts = await google.colab.kernel.invokeFunction(\n",
              "            'suggestCharts', [key], {});\n",
              "      } catch (error) {\n",
              "        console.error('Error during call to suggestCharts:', error);\n",
              "      }\n",
              "      quickchartButtonEl.classList.remove('colab-df-spinner');\n",
              "      quickchartButtonEl.classList.add('colab-df-quickchart-complete');\n",
              "    }\n",
              "    (() => {\n",
              "      let quickchartButtonEl =\n",
              "        document.querySelector('#df-ffddc7b8-bd9c-488c-bf07-7285cbe9c732 button');\n",
              "      quickchartButtonEl.style.display =\n",
              "        google.colab.kernel.accessAllowed ? 'block' : 'none';\n",
              "    })();\n",
              "  </script>\n",
              "</div>\n",
              "    </div>\n",
              "  </div>\n"
            ]
          },
          "metadata": {},
          "execution_count": 4
        }
      ]
    },
    {
      "cell_type": "code",
      "source": [
        "data = np.array(data)\n",
        "m, n = data.shape\n",
        "np.random.shuffle(data)\n",
        "\n",
        "data_dev = data[0:1000].T\n",
        "Y_dev = data_dev[0]\n",
        "X_dev = data_dev[1:n]\n",
        "X_dev = X_dev / 255.\n",
        "\n",
        "data_train = data[1000:m].T\n",
        "Y_train = data_train[0]\n",
        "X_train = data_train[1:n]\n",
        "X_train = X_train / 255."
      ],
      "metadata": {
        "execution": {
          "iopub.status.busy": "2023-12-26T16:47:07.978007Z",
          "iopub.execute_input": "2023-12-26T16:47:07.978683Z",
          "iopub.status.idle": "2023-12-26T16:47:08.589742Z",
          "shell.execute_reply.started": "2023-12-26T16:47:07.978638Z",
          "shell.execute_reply": "2023-12-26T16:47:08.588635Z"
        },
        "trusted": true,
        "id": "RWmexy1qFR-x"
      },
      "execution_count": null,
      "outputs": []
    },
    {
      "cell_type": "code",
      "source": [
        "X_train[:, 0].shape # first column"
      ],
      "metadata": {
        "execution": {
          "iopub.status.busy": "2023-12-26T16:47:08.591336Z",
          "iopub.execute_input": "2023-12-26T16:47:08.591619Z",
          "iopub.status.idle": "2023-12-26T16:47:08.599811Z",
          "shell.execute_reply.started": "2023-12-26T16:47:08.591595Z",
          "shell.execute_reply": "2023-12-26T16:47:08.598540Z"
        },
        "trusted": true,
        "colab": {
          "base_uri": "https://localhost:8080/"
        },
        "id": "9HQx1fxQFR-x",
        "outputId": "a2c5eb0a-2c42-43f0-aa06-1ebcc0e92946"
      },
      "execution_count": null,
      "outputs": [
        {
          "output_type": "execute_result",
          "data": {
            "text/plain": [
              "(784,)"
            ]
          },
          "metadata": {},
          "execution_count": 6
        }
      ]
    },
    {
      "cell_type": "code",
      "source": [
        "# Initialize all our parameters\n",
        "def init_params():\n",
        "    W1 = np.random.rand(10, 784) - 0.5 # randn makes output between -0.5 and 0.5, where rand makes output between 0 and 1\n",
        "    b1 = np.random.rand(10, 1) - 0.5\n",
        "    W2 = np.random.rand(10, 10) - 0.5\n",
        "    b2 = np.random.rand(10, 1) - 0.5\n",
        "    return W1, b1, W2, b2\n",
        "\n",
        "def ReLU(Z):\n",
        "    Ans = np.maximum(Z, 0)\n",
        "    return Ans\n",
        "\n",
        "def softmax(Z):\n",
        "    A = np.exp(Z) / sum(np.exp(Z))\n",
        "    return A\n",
        "\n",
        "def forward(W1, b1, W2, b2, X):\n",
        "    Z1 = W1.dot(X) + b1\n",
        "    A1 = ReLU(Z1)\n",
        "    Z2 = W2.dot(A1) + b2\n",
        "    A2 = softmax(Z2)\n",
        "    return Z1, A1, Z2, A2\n",
        "\n",
        "def one_hot(Y):\n",
        "    one_hot_Y = np.zeros((Y.size, Y.max() + 1))\n",
        "    one_hot_Y[np.arange(Y.size), Y] = 1\n",
        "    one_hot_Y = one_hot_Y.T\n",
        "    return one_hot_Y\n",
        "\n",
        "def derivRelu(Z):\n",
        "    Ans = Z > 0\n",
        "    return Ans\n",
        "\n",
        "def backprop(Z1, A1, Z2, A2, W1, W2, X, Y):\n",
        "    one_hot_Y = one_hot(Y)\n",
        "    dZ2 = A2 - one_hot_Y\n",
        "    dW2 = 1 / m * dZ2.dot(A1.T)\n",
        "    db2 = 1 / m * np.sum(dZ2)\n",
        "    dZ1 = W2.T.dot(dZ2) * derivRelu(Z1)\n",
        "    dW1 = 1 / m * dZ1.dot(X.T)\n",
        "    db1 = 1 / m * np.sum(dZ1)\n",
        "    return dW1, db1, dW2, db2\n",
        "\n",
        "def update_params(W1, b1, W2, b2, dW1, db1, dW2, db2, alpha):\n",
        "    W1 = W1 - alpha * dW1\n",
        "    b1 = b1 - alpha * db1\n",
        "    W2 = W2 - alpha * dW2\n",
        "    b2 = b2 - alpha * db2\n",
        "    return W1, b1, W2, b2\n"
      ],
      "metadata": {
        "execution": {
          "iopub.status.busy": "2023-12-26T16:47:08.660217Z",
          "iopub.execute_input": "2023-12-26T16:47:08.660691Z",
          "iopub.status.idle": "2023-12-26T16:47:08.678747Z",
          "shell.execute_reply.started": "2023-12-26T16:47:08.660652Z",
          "shell.execute_reply": "2023-12-26T16:47:08.676297Z"
        },
        "trusted": true,
        "id": "PspDZr9AFR-x"
      },
      "execution_count": null,
      "outputs": []
    },
    {
      "cell_type": "code",
      "source": [
        "def get_predictions(A2):\n",
        "    return np.argmax(A2, 0)\n",
        "\n",
        "def get_accuracy(predictions, Y):\n",
        "    print(predictions, Y)\n",
        "    return np.sum(predictions == Y) / Y.size\n",
        "\n",
        "def gradient_descent(X, Y, iterations, alpha):\n",
        "    W1, b1, W2, b2 = init_params()\n",
        "    for i in range(iterations):\n",
        "        Z1, A1, Z2, A2 = forward(W1, b1, W2, b2, X)\n",
        "        dW1, db1, dW2, db2 = backprop(Z1, A1, Z2, A2, W1, W2, X, Y)\n",
        "        W1, b1, W2, b2 = update_params(W1, b1, W2, b2, dW1, db1, dW2, db2, alpha)\n",
        "        if i % 50 == 0:\n",
        "            print(\"iteration: \", i)\n",
        "            print(\"Accuracy: \", get_accuracy(get_predictions(A2), Y))\n",
        "    return W1, b1, W2, b2"
      ],
      "metadata": {
        "execution": {
          "iopub.status.busy": "2023-12-26T16:47:09.099754Z",
          "iopub.execute_input": "2023-12-26T16:47:09.100247Z",
          "iopub.status.idle": "2023-12-26T16:47:09.113885Z",
          "shell.execute_reply.started": "2023-12-26T16:47:09.100208Z",
          "shell.execute_reply": "2023-12-26T16:47:09.111283Z"
        },
        "trusted": true,
        "id": "7yPJLw0mFR-x"
      },
      "execution_count": null,
      "outputs": []
    },
    {
      "cell_type": "code",
      "source": [
        "W1, b1, W2, b2 = gradient_descent(X_train, Y_train, 500, 0.1)"
      ],
      "metadata": {
        "execution": {
          "iopub.status.busy": "2023-12-26T16:47:09.235781Z",
          "iopub.execute_input": "2023-12-26T16:47:09.236339Z",
          "iopub.status.idle": "2023-12-26T16:47:48.222157Z",
          "shell.execute_reply.started": "2023-12-26T16:47:09.236298Z",
          "shell.execute_reply": "2023-12-26T16:47:48.221237Z"
        },
        "trusted": true,
        "colab": {
          "base_uri": "https://localhost:8080/"
        },
        "id": "UrPwoS9eFR-x",
        "outputId": "7ab81fc7-25ab-414e-b33c-339129ff40c5"
      },
      "execution_count": null,
      "outputs": [
        {
          "output_type": "stream",
          "name": "stdout",
          "text": [
            "iteration:  0\n",
            "[2 2 2 ... 2 0 2] [7 6 0 ... 6 3 3]\n",
            "Accuracy:  0.09473170731707317\n",
            "iteration:  50\n",
            "[9 6 0 ... 6 8 8] [7 6 0 ... 6 3 3]\n",
            "Accuracy:  0.4448536585365854\n",
            "iteration:  100\n",
            "[9 2 0 ... 6 8 3] [7 6 0 ... 6 3 3]\n",
            "Accuracy:  0.604170731707317\n",
            "iteration:  150\n",
            "[7 2 0 ... 6 8 3] [7 6 0 ... 6 3 3]\n",
            "Accuracy:  0.7142439024390244\n",
            "iteration:  200\n",
            "[7 2 0 ... 6 5 3] [7 6 0 ... 6 3 3]\n",
            "Accuracy:  0.764219512195122\n",
            "iteration:  250\n",
            "[7 2 0 ... 6 5 3] [7 6 0 ... 6 3 3]\n",
            "Accuracy:  0.7915853658536586\n",
            "iteration:  300\n",
            "[7 2 0 ... 6 5 3] [7 6 0 ... 6 3 3]\n",
            "Accuracy:  0.8099268292682927\n",
            "iteration:  350\n",
            "[7 2 0 ... 6 3 3] [7 6 0 ... 6 3 3]\n",
            "Accuracy:  0.8219512195121951\n",
            "iteration:  400\n",
            "[7 2 0 ... 6 3 3] [7 6 0 ... 6 3 3]\n",
            "Accuracy:  0.8310243902439024\n",
            "iteration:  450\n",
            "[7 2 0 ... 6 3 3] [7 6 0 ... 6 3 3]\n",
            "Accuracy:  0.8381219512195122\n"
          ]
        }
      ]
    },
    {
      "cell_type": "code",
      "source": [
        "def make_predictions(X, W1, b1, W2, b2):\n",
        "    _, _, _, A2 = forward(W1, b1, W2, b2, X)\n",
        "    predictions = get_predictions(A2)\n",
        "    return predictions\n",
        "\n",
        "def test_prediction(index, W1, b1, W2, b2):\n",
        "    current_image = X_train[:, index, None]\n",
        "    prediction = make_predictions(X_train[:, index, None], W1, b1, W2, b2)\n",
        "    label = Y_train[index]\n",
        "    print(\"Prediction: \", prediction)\n",
        "    print(\"Label: \", label)\n",
        "\n",
        "    current_image = current_image.reshape((28, 28)) * 255\n",
        "    plt.gray()\n",
        "    plt.imshow(current_image, interpolation='nearest')\n",
        "    plt.show()"
      ],
      "metadata": {
        "execution": {
          "iopub.status.busy": "2023-12-26T16:47:48.224008Z",
          "iopub.execute_input": "2023-12-26T16:47:48.224626Z",
          "iopub.status.idle": "2023-12-26T16:47:48.233279Z",
          "shell.execute_reply.started": "2023-12-26T16:47:48.224593Z",
          "shell.execute_reply": "2023-12-26T16:47:48.231980Z"
        },
        "trusted": true,
        "id": "2xFPeYlIFR-x"
      },
      "execution_count": null,
      "outputs": []
    },
    {
      "cell_type": "code",
      "source": [
        "test_prediction(0, W1, b1, W2, b2)\n",
        "test_prediction(1, W1, b1, W2, b2)\n",
        "test_prediction(2, W1, b1, W2, b2)\n",
        "test_prediction(3, W1, b1, W2, b2)"
      ],
      "metadata": {
        "execution": {
          "iopub.status.busy": "2023-12-26T16:47:48.235235Z",
          "iopub.execute_input": "2023-12-26T16:47:48.236082Z",
          "iopub.status.idle": "2023-12-26T16:47:48.946477Z",
          "shell.execute_reply.started": "2023-12-26T16:47:48.236018Z",
          "shell.execute_reply": "2023-12-26T16:47:48.945086Z"
        },
        "trusted": true,
        "colab": {
          "base_uri": "https://localhost:8080/",
          "height": 1000
        },
        "id": "cuEuQcqYFR-y",
        "outputId": "7fef7418-a2cf-424b-f62d-b99e68a8e37c"
      },
      "execution_count": null,
      "outputs": [
        {
          "output_type": "stream",
          "name": "stdout",
          "text": [
            "Prediction:  [7]\n",
            "Label:  7\n"
          ]
        },
        {
          "output_type": "display_data",
          "data": {
            "text/plain": [
              "<Figure size 640x480 with 1 Axes>"
            ],
            "image/png": "[encoded data removed]"
          },
          "metadata": {}
        },
        {
          "output_type": "stream",
          "name": "stdout",
          "text": [
            "Prediction:  [2]\n",
            "Label:  6\n"
          ]
        },
        {
          "output_type": "display_data",
          "data": {
            "text/plain": [
              "<Figure size 640x480 with 1 Axes>"
            ],
            "image/png": "[encoded data removed]"
          },
          "metadata": {}
        },
        {
          "output_type": "stream",
          "name": "stdout",
          "text": [
            "Prediction:  [0]\n",
            "Label:  0\n"
          ]
        },
        {
          "output_type": "display_data",
          "data": {
            "text/plain": [
              "<Figure size 640x480 with 1 Axes>"
            ],
            "image/png": "[encoded data removed]"
          },
          "metadata": {}
        },
        {
          "output_type": "stream",
          "name": "stdout",
          "text": [
            "Prediction:  [5]\n",
            "Label:  5\n"
          ]
        },
        {
          "output_type": "display_data",
          "data": {
            "text/plain": [
              "<Figure size 640x480 with 1 Axes>"
            ],
            "image/png": "[encoded data removed]"
          },
          "metadata": {}
        }
      ]
    },
    {
      "cell_type": "code",
      "source": [
        "dev_predictions = make_predictions(X_dev, W1, b1, W2, b2)\n",
        "get_accuracy(dev_predictions, Y_dev)"
      ],
      "metadata": {
        "execution": {
          "iopub.status.busy": "2023-12-26T16:47:48.949577Z",
          "iopub.execute_input": "2023-12-26T16:47:48.950129Z",
          "iopub.status.idle": "2023-12-26T16:47:48.967815Z",
          "shell.execute_reply.started": "2023-12-26T16:47:48.950085Z",
          "shell.execute_reply": "2023-12-26T16:47:48.966405Z"
        },
        "trusted": true,
        "colab": {
          "base_uri": "https://localhost:8080/"
        },
        "id": "d0fRvBSmFR-y",
        "outputId": "a47d92f1-ce8d-47a8-a653-c268bb094bce"
      },
      "execution_count": null,
      "outputs": [
        {
          "output_type": "stream",
          "name": "stdout",
          "text": [
            "[4 2 1 8 1 0 2 8 1 1 4 8 0 6 1 6 9 3 7 0 2 4 1 4 8 8 2 6 3 7 9 9 3 2 2 0 3\n",
            " 3 1 3 8 1 4 0 4 8 7 0 9 5 5 6 2 2 3 9 1 6 4 0 8 1 4 3 7 9 7 0 9 2 6 6 3 2\n",
            " 4 9 7 4 1 2 0 0 4 1 6 3 9 5 2 6 7 0 8 1 6 8 8 1 8 8 6 6 3 4 4 9 5 4 4 9 3\n",
            " 6 9 6 9 0 8 1 2 5 3 2 1 1 8 0 4 7 3 5 1 9 2 2 3 0 5 6 6 5 1 3 1 2 1 3 4 0\n",
            " 0 4 7 5 3 2 0 5 0 6 6 3 4 0 2 2 5 7 9 7 3 1 1 3 3 0 9 2 4 2 8 8 9 2 4 3 3\n",
            " 3 4 1 8 6 0 8 3 1 3 6 0 8 8 5 8 6 7 6 3 8 0 2 1 1 1 6 8 8 8 5 2 4 8 3 1 5\n",
            " 8 0 1 9 6 9 6 7 0 7 2 0 0 7 1 3 6 8 1 0 0 6 2 9 6 1 9 1 1 7 2 4 0 3 6 8 6\n",
            " 7 5 5 4 8 9 7 0 7 5 1 1 7 6 6 9 7 4 4 9 2 1 0 3 2 7 9 6 8 8 0 9 3 3 3 8 7\n",
            " 5 0 8 9 3 0 0 3 0 3 2 0 3 1 0 6 2 0 3 0 1 8 6 8 0 7 5 5 5 8 2 7 0 5 7 5 6\n",
            " 3 6 3 1 0 9 2 7 3 2 9 6 1 1 2 3 0 7 6 7 9 5 7 9 5 2 2 5 6 6 1 7 3 1 0 4 4\n",
            " 4 6 5 1 1 2 7 6 4 9 9 7 4 3 5 1 9 7 6 0 3 7 0 6 8 7 0 7 5 0 2 8 3 0 1 3 3\n",
            " 3 7 2 1 5 5 9 0 0 4 8 3 7 5 2 9 4 3 3 1 7 7 5 1 1 8 0 0 7 9 9 7 5 1 5 0 9\n",
            " 1 5 4 3 5 7 6 5 8 3 8 3 4 0 4 7 5 3 8 3 9 0 4 9 4 4 6 4 6 4 5 0 4 0 6 4 0\n",
            " 4 2 7 8 2 7 3 8 7 9 8 6 8 7 3 4 5 3 7 4 0 2 0 1 4 6 0 0 0 5 8 2 2 4 8 5 4\n",
            " 9 0 1 4 9 8 5 8 6 5 1 1 1 2 6 4 1 3 4 1 7 7 2 4 0 1 8 4 3 1 1 2 6 9 2 2 3\n",
            " 5 8 1 5 8 6 4 7 8 2 2 6 4 5 0 8 2 7 3 9 0 4 0 7 0 1 4 0 1 7 0 3 1 4 7 1 5\n",
            " 2 8 9 7 3 3 4 9 8 9 2 6 5 6 0 4 7 2 0 7 7 9 9 7 6 1 7 7 8 3 1 3 7 4 7 8 6\n",
            " 6 3 5 0 0 9 3 8 6 3 2 7 1 5 6 0 9 3 7 2 8 0 8 2 9 2 7 0 7 7 9 5 6 2 6 1 6\n",
            " 6 5 1 8 2 6 8 6 5 6 0 2 1 4 9 9 3 6 3 1 9 5 0 8 7 2 5 6 9 1 2 5 5 2 4 0 8\n",
            " 4 5 0 7 1 0 1 2 2 1 2 3 7 4 1 7 2 2 2 3 2 4 3 7 2 9 3 9 9 8 6 3 6 2 5 9 2\n",
            " 5 3 0 7 6 7 7 0 4 5 1 8 1 1 2 0 2 1 3 1 8 5 0 5 1 3 9 3 2 9 2 1 1 4 1 5 6\n",
            " 3 7 1 8 2 0 3 0 7 2 0 0 9 8 0 6 7 0 1 6 2 4 0 6 9 9 6 6 1 9 7 8 5 6 8 2 0\n",
            " 2 0 2 9 7 5 1 5 0 2 4 7 3 4 1 0 4 2 7 2 3 7 9 9 5 6 9 3 3 4 1 2 4 3 5 4 9\n",
            " 6 3 5 8 2 3 8 0 4 0 4 1 2 7 9 7 0 5 1 9 8 8 0 7 1 3 4 4 1 1 7 7 9 9 5 1 8\n",
            " 1 6 9 1 1 7 9 5 9 9 1 0 5 9 6 1 4 7 3 6 9 2 3 6 1 2 9 5 2 9 4 9 5 3 9 9 5\n",
            " 8 0 0 4 8 1 3 8 5 6 0 6 2 5 8 0 5 8 8 0 6 1 7 2 2 9 8 8 0 1 4 0 0 4 4 1 7\n",
            " 6 1 8 9 9 5 3 9 5 0 0 6 0 2 1 2 0 3 6 4 0 8 2 1 6 5 6 0 0 8 9 7 4 1 6 1 1\n",
            " 4] [4 2 1 8 1 0 2 1 1 1 4 3 0 6 1 6 9 5 7 0 2 4 1 4 8 8 8 6 5 7 8 9 3 7 3 0 3\n",
            " 3 1 3 1 1 4 0 4 8 7 0 9 5 8 4 2 2 3 9 1 6 4 0 8 1 4 3 7 9 7 0 9 2 6 6 3 2\n",
            " 4 7 7 4 1 6 0 0 4 1 4 3 9 5 2 6 7 0 8 1 6 8 8 9 8 8 5 6 3 6 4 9 8 4 8 9 3\n",
            " 6 9 6 9 0 8 1 2 5 2 2 1 1 8 5 9 7 3 5 1 9 2 2 3 0 5 6 6 5 1 3 1 2 1 2 4 0\n",
            " 0 4 7 5 3 2 0 5 0 6 6 3 4 0 2 2 0 7 9 7 3 1 1 3 3 0 9 2 4 2 8 8 9 6 4 7 3\n",
            " 3 4 1 8 6 0 8 3 1 3 6 2 8 8 5 8 6 7 6 3 8 0 2 1 1 1 6 8 8 8 5 2 4 9 3 1 5\n",
            " 8 0 1 9 6 7 6 7 6 9 2 0 0 7 5 3 6 1 1 0 0 6 2 8 6 1 9 1 1 7 7 4 9 7 6 8 6\n",
            " 7 5 5 9 8 9 7 0 7 5 1 1 7 6 6 9 7 4 4 9 2 1 0 3 2 7 9 6 8 1 0 9 3 3 3 8 7\n",
            " 3 0 8 9 3 0 0 1 0 3 2 0 3 1 0 6 2 0 3 0 1 8 6 5 0 7 5 5 5 8 6 7 0 8 7 3 6\n",
            " 5 6 9 1 5 9 2 7 3 2 9 6 1 1 2 8 0 7 6 7 9 5 7 9 0 2 2 5 6 6 1 7 3 1 0 4 4\n",
            " 5 6 5 1 1 8 7 4 4 9 9 7 4 2 3 1 9 7 6 0 5 7 0 6 8 7 0 7 5 0 2 8 3 0 1 3 3\n",
            " 3 7 2 1 6 5 9 0 0 4 8 3 7 5 2 9 9 3 3 1 7 9 5 1 1 8 0 2 7 9 9 7 5 1 0 0 4\n",
            " 1 5 4 3 5 7 6 5 8 3 3 3 4 0 7 7 5 3 8 5 9 0 4 9 4 9 6 4 6 4 5 0 4 0 6 4 0\n",
            " 4 2 7 8 2 7 3 8 7 9 8 4 8 7 3 7 5 3 5 4 2 2 0 1 4 6 5 0 0 5 8 2 4 4 8 5 4\n",
            " 9 9 1 4 9 8 5 8 6 5 1 1 1 2 6 4 1 3 4 1 3 7 5 4 0 1 8 4 3 1 1 2 6 9 3 0 3\n",
            " 5 8 1 8 8 4 4 7 8 2 2 6 4 5 0 8 2 8 5 9 0 4 0 7 0 1 4 5 1 7 0 3 1 9 7 1 5\n",
            " 2 8 9 7 3 3 4 9 8 9 2 6 5 6 5 4 7 7 9 7 7 9 9 7 6 1 9 2 8 5 1 3 7 9 7 8 2\n",
            " 6 3 5 0 0 9 5 8 6 8 2 3 1 5 2 0 9 3 7 2 8 0 8 2 9 2 7 0 7 7 9 5 6 7 6 1 6\n",
            " 6 5 1 8 2 6 8 6 5 2 0 2 1 4 9 9 3 6 5 1 4 5 6 8 7 2 5 6 9 1 2 5 5 2 4 0 8\n",
            " 9 5 0 7 1 0 1 2 5 1 2 3 4 4 1 7 2 6 9 3 2 4 3 7 2 7 3 4 9 8 6 9 6 2 5 9 2\n",
            " 5 3 0 7 6 7 7 0 4 3 1 8 7 1 2 0 2 1 0 1 8 5 0 5 1 3 9 5 8 9 2 6 1 4 2 5 6\n",
            " 3 7 1 8 2 0 3 0 7 2 0 0 9 2 0 2 7 0 1 6 2 4 0 6 9 9 6 6 1 9 7 8 5 6 5 2 0\n",
            " 2 0 2 4 9 5 1 5 0 2 8 7 3 4 1 0 4 7 7 2 3 9 4 9 5 6 9 3 3 4 1 2 4 5 5 4 9\n",
            " 6 3 5 8 2 3 8 5 4 0 4 1 2 9 9 7 0 0 1 9 8 8 0 7 1 3 4 4 1 1 7 7 8 8 5 1 9\n",
            " 1 6 4 1 1 7 9 5 9 9 1 0 5 9 6 1 4 7 3 6 9 2 9 6 1 2 9 5 2 9 4 9 5 3 9 7 5\n",
            " 8 0 0 4 8 1 3 8 5 6 2 6 2 5 8 0 5 5 6 0 6 1 7 2 2 9 8 8 5 1 4 0 0 4 5 1 7\n",
            " 6 1 8 9 9 5 3 9 5 0 0 6 0 2 1 2 0 3 6 4 0 8 2 1 6 3 6 0 0 8 8 7 4 1 8 1 1\n",
            " 9]\n"
          ]
        },
        {
          "output_type": "execute_result",
          "data": {
            "text/plain": [
              "0.857"
            ]
          },
          "metadata": {},
          "execution_count": 12
        }
      ]
    }
  ]
}